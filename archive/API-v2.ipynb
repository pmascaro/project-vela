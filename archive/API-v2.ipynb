{
 "cells": [
  {
   "cell_type": "code",
   "execution_count": 18,
   "metadata": {},
   "outputs": [],
   "source": [
    "# import basic libraries\n",
    "import pandas as pd\n",
    "import numpy as np\n",
    "\n",
    "# importing the requests library \n",
    "import requests \n",
    "from requests.auth import HTTPBasicAuth\n",
    "\n",
    "# datatime\n",
    "from datetime import datetime\n",
    "\n",
    "# json it will come in handy when parsing the JSON output of the API\n",
    "import json"
   ]
  },
  {
   "cell_type": "markdown",
   "metadata": {},
   "source": [
    "### Update 13th December"
   ]
  },
  {
   "cell_type": "markdown",
   "metadata": {},
   "source": [
    "The goal is to replicate the GET below in python. You visited our HERE Campus in Berlin Mitte and now you would like to travel to Potsdam, a city nearby the German capital. You also would like to know at least 3 ways to reach your destination."
   ]
  },
  {
   "cell_type": "markdown",
   "metadata": {},
   "source": [
    "Offer different routes that include drive, park, bike, ride, bike or ride share, taxi and walk to a destination. Automatically account for real-time traffic, incidents, public transit timetables and historical information. (https://developer.here.com/products/routing)"
   ]
  },
  {
   "cell_type": "code",
   "execution_count": 19,
   "metadata": {},
   "outputs": [
    {
     "ename": "SyntaxError",
     "evalue": "invalid syntax (<ipython-input-19-2fc3918b191b>, line 1)",
     "output_type": "error",
     "traceback": [
      "\u001b[0;36m  File \u001b[0;32m\"<ipython-input-19-2fc3918b191b>\"\u001b[0;36m, line \u001b[0;32m1\u001b[0m\n\u001b[0;31m    GET https://intermodal.router.hereapi.com/v8/routes\u001b[0m\n\u001b[0m        ^\u001b[0m\n\u001b[0;31mSyntaxError\u001b[0m\u001b[0;31m:\u001b[0m invalid syntax\n"
     ]
    }
   ],
   "source": [
    "GET https://intermodal.router.hereapi.com/v8/routes\n",
    "    ?apiKey={YOUR_API_KEY}\n",
    "    &alternatives=2\n",
    "    &destination=52.40358749909618,13.058351363288239\n",
    "    &origin=52.53105637575095,13.384944833815183"
   ]
  },
  {
   "cell_type": "markdown",
   "metadata": {},
   "source": [
    "**Routing api only, no intermodal**"
   ]
  },
  {
   "cell_type": "markdown",
   "metadata": {},
   "source": [
    "Provide the best public transit routes while highlighting walking directions to stops, pedestrian access points, station locations and transfer locations along the way."
   ]
  },
  {
   "cell_type": "code",
   "execution_count": 20,
   "metadata": {},
   "outputs": [
    {
     "ename": "SyntaxError",
     "evalue": "invalid syntax (<ipython-input-20-0bd32f1f1b3e>, line 1)",
     "output_type": "error",
     "traceback": [
      "\u001b[0;36m  File \u001b[0;32m\"<ipython-input-20-0bd32f1f1b3e>\"\u001b[0;36m, line \u001b[0;32m1\u001b[0m\n\u001b[0;31m    GET https://transit.router.hereapi.com/v8/routes\u001b[0m\n\u001b[0m        ^\u001b[0m\n\u001b[0;31mSyntaxError\u001b[0m\u001b[0;31m:\u001b[0m invalid syntax\n"
     ]
    }
   ],
   "source": [
    "GET https://transit.router.hereapi.com/v8/routes\n",
    "?apiKey={p88tkaJkqBiAFjL2F9jeWVV7303PQt1iVNr_zV8Wj2g}\n",
    "&origin=41.79457,12.25473\n",
    "&destination=41.90096,12.50243"
   ]
  },
  {
   "cell_type": "code",
   "execution_count": 21,
   "metadata": {},
   "outputs": [],
   "source": [
    "# example1: https://developer.here.com/blog/discovering-nearby-places-using-python-flask"
   ]
  },
  {
   "cell_type": "code",
   "execution_count": 27,
   "metadata": {},
   "outputs": [],
   "source": [
    "my_url = \"https://transit.router.hereapi.com/v8/routes\"\n",
    "\n",
    "token = 'eyJhbGciOiJSUzUxMiIsImN0eSI6IkpXVCIsImlzcyI6IkhFUkUiLCJhaWQiOiJuNzVGNUlHZG5Jd3FrZzZoWmdwayIsImlhdCI6MTYwODA2MTkyMiwiZXhwIjoxNjA4MTQ4MzIyLCJraWQiOiJqMSJ9.ZXlKaGJHY2lPaUprYVhJaUxDSmxibU1pT2lKQk1qVTJRMEpETFVoVE5URXlJbjAuLmJOTTdibk40WWhCa1lRMzhwZm14UVEuZlRzQklUcFU0eDBrY2VweHFlRFFrODdPRHZpUmF2MFA2My1nQ0NLcHdWUEJEdjhFZEcwYWg2YWZMMV9fOFVqTlE2cVJ4MGFmOGpvMDR5UEJkZmR3dUNNWTNMMFhSMFdhQUZmRkwtY0Q2TUVPOGl6QUZicDl2d1EtUUZjb242YXBPblhpVXc4bnFfYTN4aWJFSWtGWmdRLkF6TXpzV3lTNkZTeTB5b2hFdVZRdDZXd1dCODlvb281RTJBcEN5cFhPSFk.q-xW70plG-iVaBypJw1aHQQCQNpEi7-cZuLZlm0iQ4TxIPQkIwKkBWFUt90-6sqyNkTTA-x0vYOwlywKwtzM8zCEe14yxyVDdAEtMSQcXNzWdNN2cyOSKBmB2lcnzgHErHnuqFuZvTc0IZlpd5wGt9Pqpp2by4qUSsabQOVq0cFoZb9S2vGEKONMLN_sJv-f3ze8pJSp7Ij3vJBLrv3QtzkX0jX7zQQtdu4N2e_vgzZO_AlxVVusMWkYDlu6s5w7G2MgPvpTb5w8Y6hUXOzwAh5GfJiMjwbZfSWyasLFXAcQWsgHvznxPs4cNto1pEOhXumCwl9L-WFNFbekvtkSng'\n",
    "\n",
    "my_headers = {'Authorization' : 'Bearer '+token }    \n",
    "\n",
    "# requesting a location\n",
    "origin='51.508734,-0.291315'\n",
    "destination='51.428203,-0.165502'\n",
    "\n",
    "query = {\n",
    "            'origin':origin,\n",
    "            'destination':destination\n",
    "        }\n",
    "\n",
    "response =requests.get(url=my_url, headers=my_headers, params=query) \n",
    "\n",
    "# Use the json module to load CKAN's (Comprehensive Knowledge Archive Network) response into a dictionary.\n",
    "\n",
    "data = response.json()"
   ]
  },
  {
   "cell_type": "code",
   "execution_count": 28,
   "metadata": {},
   "outputs": [
    {
     "data": {
      "text/plain": [
       "{'routes': [{'id': 'R002710-C0',\n",
       "   'sections': [{'id': 'R002710-C0-S0',\n",
       "     'type': 'pedestrian',\n",
       "     'departure': {'time': '2020-12-15T19:56:00Z',\n",
       "      'place': {'type': 'place',\n",
       "       'location': {'lat': 51.508734, 'lng': -0.291315}}},\n",
       "     'arrival': {'time': '2020-12-15T20:04:00Z',\n",
       "      'place': {'name': 'Ealing Common',\n",
       "       'type': 'accessPoint',\n",
       "       'location': {'lat': 51.510319, 'lng': -0.288149}}},\n",
       "     'transport': {'mode': 'pedestrian'}},\n",
       "    {'id': 'R002710-C0-S0-arr',\n",
       "     'type': 'pedestrian',\n",
       "     'departure': {'time': '2020-12-15T20:04:00Z',\n",
       "      'place': {'name': 'Ealing Common',\n",
       "       'type': 'accessPoint',\n",
       "       'location': {'lat': 51.510319, 'lng': -0.288149}}},\n",
       "     'arrival': {'time': '2020-12-15T20:05:00Z',\n",
       "      'place': {'name': 'Ealing Common',\n",
       "       'type': 'station',\n",
       "       'location': {'lat': 51.509977, 'lng': -0.288195},\n",
       "       'id': '420326169'}},\n",
       "     'transport': {'mode': 'pedestrian'}},\n",
       "    {'id': 'R002710-C0-S1',\n",
       "     'type': 'transit',\n",
       "     'departure': {'time': '2020-12-15T20:05:00Z',\n",
       "      'place': {'name': 'Ealing Common',\n",
       "       'type': 'station',\n",
       "       'location': {'lat': 51.509977, 'lng': -0.288195},\n",
       "       'id': '420326169'}},\n",
       "     'arrival': {'time': '2020-12-15T20:31:00Z',\n",
       "      'place': {'name': 'Green Park',\n",
       "       'type': 'station',\n",
       "       'location': {'lat': 51.506769, 'lng': -0.142705},\n",
       "       'id': '420326221'}},\n",
       "     'transport': {'mode': 'subway',\n",
       "      'name': 'Piccadilly',\n",
       "      'category': 'Train',\n",
       "      'color': '#1B3F94',\n",
       "      'textColor': '#FFFFFF',\n",
       "      'headsign': 'Cockfosters'},\n",
       "     'agency': {'id': 'kJ9OP102',\n",
       "      'name': 'London Underground (TfL)',\n",
       "      'website': 'http://www.traveline.info'},\n",
       "     'attributions': [{'id': 'R002710-C0-S2 R002710-C0-S3 R002710-C0-S1-link-0',\n",
       "       'href': 'https://www.networkrail.co.uk/who-we-are/transparency-and-ethics/transparency/open-data-feeds/network-rail-infrastructure-limited-data-feeds-licence/',\n",
       "       'text': 'Contains public sector information licensed under the Open Government Licence v3.0. Contains OS data © Crown copyright and database rights 2016. Powered by TfL Open Data. Contains Information of Network Rail Infrastructure Limited licensed under the linked licence.',\n",
       "       'type': 'disclaimer'}]},\n",
       "    {'id': 'R002710-C0-S2',\n",
       "     'type': 'transit',\n",
       "     'departure': {'time': '2020-12-15T20:35:00Z',\n",
       "      'place': {'name': 'Green Park',\n",
       "       'type': 'station',\n",
       "       'location': {'lat': 51.506769, 'lng': -0.142705},\n",
       "       'id': '420326221'}},\n",
       "     'arrival': {'time': '2020-12-15T20:43:00Z',\n",
       "      'place': {'name': 'Stockwell',\n",
       "       'type': 'station',\n",
       "       'location': {'lat': 51.471872, 'lng': -0.122824},\n",
       "       'id': '420326448'}},\n",
       "     'transport': {'mode': 'subway',\n",
       "      'name': 'Victoria',\n",
       "      'category': 'Train',\n",
       "      'color': '#18A1E0',\n",
       "      'textColor': '#000000',\n",
       "      'headsign': 'Brixton'},\n",
       "     'agency': {'id': 'kJ9OP102',\n",
       "      'name': 'London Underground (TfL)',\n",
       "      'website': 'http://www.traveline.info'},\n",
       "     'attributions': [{'id': 'R002710-C0-S2 R002710-C0-S3 R002710-C0-S1-link-0',\n",
       "       'href': 'https://www.networkrail.co.uk/who-we-are/transparency-and-ethics/transparency/open-data-feeds/network-rail-infrastructure-limited-data-feeds-licence/',\n",
       "       'text': 'Contains public sector information licensed under the Open Government Licence v3.0. Contains OS data © Crown copyright and database rights 2016. Powered by TfL Open Data. Contains Information of Network Rail Infrastructure Limited licensed under the linked licence.',\n",
       "       'type': 'disclaimer'}]},\n",
       "    {'id': 'R002710-C0-S3',\n",
       "     'type': 'transit',\n",
       "     'departure': {'time': '2020-12-15T20:47:00Z',\n",
       "      'place': {'name': 'Stockwell',\n",
       "       'type': 'station',\n",
       "       'location': {'lat': 51.471872, 'lng': -0.122824},\n",
       "       'id': '420326448'}},\n",
       "     'arrival': {'time': '2020-12-15T20:57:00Z',\n",
       "      'place': {'name': 'Tooting Broadway',\n",
       "       'type': 'station',\n",
       "       'location': {'lat': 51.427841, 'lng': -0.168153},\n",
       "       'id': '420326475'}},\n",
       "     'transport': {'mode': 'subway',\n",
       "      'name': 'Northern',\n",
       "      'category': 'Train',\n",
       "      'color': '#000000',\n",
       "      'textColor': '#FFFFFF',\n",
       "      'headsign': 'Morden'},\n",
       "     'agency': {'id': 'kJ9OP102',\n",
       "      'name': 'London Underground (TfL)',\n",
       "      'website': 'http://www.traveline.info'},\n",
       "     'attributions': [{'id': 'R002710-C0-S2 R002710-C0-S3 R002710-C0-S1-link-0',\n",
       "       'href': 'https://www.networkrail.co.uk/who-we-are/transparency-and-ethics/transparency/open-data-feeds/network-rail-infrastructure-limited-data-feeds-licence/',\n",
       "       'text': 'Contains public sector information licensed under the Open Government Licence v3.0. Contains OS data © Crown copyright and database rights 2016. Powered by TfL Open Data. Contains Information of Network Rail Infrastructure Limited licensed under the linked licence.',\n",
       "       'type': 'disclaimer'}]},\n",
       "    {'id': 'R002710-C0-S4-dep',\n",
       "     'type': 'pedestrian',\n",
       "     'departure': {'time': '2020-12-15T20:57:00Z',\n",
       "      'place': {'name': 'Tooting Broadway',\n",
       "       'type': 'station',\n",
       "       'location': {'lat': 51.427841, 'lng': -0.168153},\n",
       "       'id': '420326475'}},\n",
       "     'arrival': {'time': '2020-12-15T20:58:00Z',\n",
       "      'place': {'name': 'Tooting Broadway',\n",
       "       'type': 'accessPoint',\n",
       "       'location': {'lat': 51.427929, 'lng': -0.168063}}},\n",
       "     'transport': {'mode': 'pedestrian'}},\n",
       "    {'id': 'R002710-C0-S4',\n",
       "     'type': 'pedestrian',\n",
       "     'departure': {'time': '2020-12-15T20:58:00Z',\n",
       "      'place': {'name': 'Tooting Broadway',\n",
       "       'type': 'accessPoint',\n",
       "       'location': {'lat': 51.427929, 'lng': -0.168063}}},\n",
       "     'arrival': {'time': '2020-12-15T21:02:00Z',\n",
       "      'place': {'type': 'place',\n",
       "       'location': {'lat': 51.428203, 'lng': -0.165502}}},\n",
       "     'transport': {'mode': 'pedestrian'}}]}]}"
      ]
     },
     "execution_count": 28,
     "metadata": {},
     "output_type": "execute_result"
    }
   ],
   "source": [
    "data"
   ]
  },
  {
   "cell_type": "code",
   "execution_count": 30,
   "metadata": {},
   "outputs": [
    {
     "name": "stdout",
     "output_type": "stream",
     "text": [
      "Your departure time is:  19:56:00  and your arrival time is:  21:02:00\n",
      "Time to destination (in minutes)  1:06:00\n"
     ]
    }
   ],
   "source": [
    "dep_time =  data['routes'][0]['sections'][0]['departure']['time']\n",
    "arr_time = data['routes'][0]['sections'][len(data['routes'][0]['sections'])-1]['arrival']['time']\n",
    "\n",
    "dep_datetime = datetime.strptime(dep_time, '%Y-%m-%dT%H:%M:%SZ')\n",
    "arr_datetime = datetime.strptime(arr_time, '%Y-%m-%dT%H:%M:%SZ')\n",
    "\n",
    "diff = arr_datetime - dep_datetime \n",
    "\n",
    "print(\"Your departure time is: \",dep_datetime.time(),\" and your arrival time is: \",arr_datetime.time())\n",
    "print(\"Time to destination (in minutes) \",diff)\n"
   ]
  },
  {
   "cell_type": "code",
   "execution_count": 12,
   "metadata": {},
   "outputs": [
    {
     "ename": "KeyError",
     "evalue": "'routes'",
     "output_type": "error",
     "traceback": [
      "\u001b[0;31m---------------------------------------------------------------------------\u001b[0m",
      "\u001b[0;31mKeyError\u001b[0m                                  Traceback (most recent call last)",
      "\u001b[0;32m<ipython-input-12-d5546d931eca>\u001b[0m in \u001b[0;36m<module>\u001b[0;34m\u001b[0m\n\u001b[0;32m----> 1\u001b[0;31m \u001b[0;32mfor\u001b[0m \u001b[0mi\u001b[0m \u001b[0;32min\u001b[0m \u001b[0mrange\u001b[0m\u001b[0;34m(\u001b[0m\u001b[0;36m0\u001b[0m\u001b[0;34m,\u001b[0m\u001b[0mlen\u001b[0m\u001b[0;34m(\u001b[0m\u001b[0mdata\u001b[0m\u001b[0;34m[\u001b[0m\u001b[0;34m'routes'\u001b[0m\u001b[0;34m]\u001b[0m\u001b[0;34m[\u001b[0m\u001b[0;36m0\u001b[0m\u001b[0;34m]\u001b[0m\u001b[0;34m[\u001b[0m\u001b[0;34m'sections'\u001b[0m\u001b[0;34m]\u001b[0m\u001b[0;34m)\u001b[0m\u001b[0;34m)\u001b[0m\u001b[0;34m:\u001b[0m\u001b[0;34m\u001b[0m\u001b[0;34m\u001b[0m\u001b[0m\n\u001b[0m\u001b[1;32m      2\u001b[0m \u001b[0;31m#for i in len(data['routes'][0]['sections']):\u001b[0m\u001b[0;34m\u001b[0m\u001b[0;34m\u001b[0m\u001b[0;34m\u001b[0m\u001b[0m\n\u001b[1;32m      3\u001b[0m \u001b[0;34m\u001b[0m\u001b[0m\n\u001b[1;32m      4\u001b[0m     \u001b[0mprint\u001b[0m\u001b[0;34m(\u001b[0m\u001b[0mdata\u001b[0m\u001b[0;34m[\u001b[0m\u001b[0;34m'routes'\u001b[0m\u001b[0;34m]\u001b[0m\u001b[0;34m[\u001b[0m\u001b[0;36m0\u001b[0m\u001b[0;34m]\u001b[0m\u001b[0;34m[\u001b[0m\u001b[0;34m'sections'\u001b[0m\u001b[0;34m]\u001b[0m\u001b[0;34m[\u001b[0m\u001b[0mi\u001b[0m\u001b[0;34m]\u001b[0m\u001b[0;34m[\u001b[0m\u001b[0;34m'transport'\u001b[0m\u001b[0;34m]\u001b[0m\u001b[0;34m[\u001b[0m\u001b[0;34m'mode'\u001b[0m\u001b[0;34m]\u001b[0m\u001b[0;34m)\u001b[0m\u001b[0;34m\u001b[0m\u001b[0;34m\u001b[0m\u001b[0m\n\u001b[1;32m      5\u001b[0m     \u001b[0mprint\u001b[0m\u001b[0;34m(\u001b[0m\u001b[0mdata\u001b[0m\u001b[0;34m[\u001b[0m\u001b[0;34m'routes'\u001b[0m\u001b[0;34m]\u001b[0m\u001b[0;34m[\u001b[0m\u001b[0;36m0\u001b[0m\u001b[0;34m]\u001b[0m\u001b[0;34m[\u001b[0m\u001b[0;34m'sections'\u001b[0m\u001b[0;34m]\u001b[0m\u001b[0;34m[\u001b[0m\u001b[0mi\u001b[0m\u001b[0;34m]\u001b[0m\u001b[0;34m[\u001b[0m\u001b[0;34m'departure'\u001b[0m\u001b[0;34m]\u001b[0m\u001b[0;34m[\u001b[0m\u001b[0;34m'time'\u001b[0m\u001b[0;34m]\u001b[0m\u001b[0;34m)\u001b[0m\u001b[0;34m\u001b[0m\u001b[0;34m\u001b[0m\u001b[0m\n",
      "\u001b[0;31mKeyError\u001b[0m: 'routes'"
     ]
    }
   ],
   "source": [
    "for i in range(0,len(data['routes'][0]['sections'])): \n",
    "#for i in len(data['routes'][0]['sections']):\n",
    "\n",
    "    print(data['routes'][0]['sections'][i]['transport']['mode'])\n",
    "    print(data['routes'][0]['sections'][i]['departure']['time'])\n",
    "    print(data['routes'][0]['sections'][i]['arrival']['time'],'\\n')\n",
    "\n"
   ]
  },
  {
   "cell_type": "code",
   "execution_count": null,
   "metadata": {},
   "outputs": [],
   "source": []
  },
  {
   "cell_type": "code",
   "execution_count": null,
   "metadata": {},
   "outputs": [],
   "source": []
  },
  {
   "cell_type": "code",
   "execution_count": null,
   "metadata": {},
   "outputs": [],
   "source": []
  },
  {
   "cell_type": "code",
   "execution_count": null,
   "metadata": {},
   "outputs": [],
   "source": []
  },
  {
   "cell_type": "markdown",
   "metadata": {},
   "source": [
    "**In this part we will try to get the latitude and longitude from the Post code**"
   ]
  },
  {
   "cell_type": "code",
   "execution_count": 3,
   "metadata": {},
   "outputs": [],
   "source": [
    "post_code_data = pd.read_csv(\"ukpostcodes.csv\")"
   ]
  },
  {
   "cell_type": "code",
   "execution_count": 4,
   "metadata": {},
   "outputs": [
    {
     "data": {
      "text/html": [
       "<div>\n",
       "<style scoped>\n",
       "    .dataframe tbody tr th:only-of-type {\n",
       "        vertical-align: middle;\n",
       "    }\n",
       "\n",
       "    .dataframe tbody tr th {\n",
       "        vertical-align: top;\n",
       "    }\n",
       "\n",
       "    .dataframe thead th {\n",
       "        text-align: right;\n",
       "    }\n",
       "</style>\n",
       "<table border=\"1\" class=\"dataframe\">\n",
       "  <thead>\n",
       "    <tr style=\"text-align: right;\">\n",
       "      <th></th>\n",
       "      <th>id</th>\n",
       "      <th>postcode</th>\n",
       "      <th>latitude</th>\n",
       "      <th>longitude</th>\n",
       "    </tr>\n",
       "  </thead>\n",
       "  <tbody>\n",
       "    <tr>\n",
       "      <th>0</th>\n",
       "      <td>1</td>\n",
       "      <td>AB10 1XG</td>\n",
       "      <td>57.144165</td>\n",
       "      <td>-2.114848</td>\n",
       "    </tr>\n",
       "    <tr>\n",
       "      <th>1</th>\n",
       "      <td>2</td>\n",
       "      <td>AB10 6RN</td>\n",
       "      <td>57.137880</td>\n",
       "      <td>-2.121487</td>\n",
       "    </tr>\n",
       "    <tr>\n",
       "      <th>2</th>\n",
       "      <td>3</td>\n",
       "      <td>AB10 7JB</td>\n",
       "      <td>57.124274</td>\n",
       "      <td>-2.127190</td>\n",
       "    </tr>\n",
       "    <tr>\n",
       "      <th>3</th>\n",
       "      <td>4</td>\n",
       "      <td>AB11 5QN</td>\n",
       "      <td>57.142701</td>\n",
       "      <td>-2.093295</td>\n",
       "    </tr>\n",
       "    <tr>\n",
       "      <th>4</th>\n",
       "      <td>5</td>\n",
       "      <td>AB11 6UL</td>\n",
       "      <td>57.137547</td>\n",
       "      <td>-2.112233</td>\n",
       "    </tr>\n",
       "  </tbody>\n",
       "</table>\n",
       "</div>"
      ],
      "text/plain": [
       "   id  postcode   latitude  longitude\n",
       "0   1  AB10 1XG  57.144165  -2.114848\n",
       "1   2  AB10 6RN  57.137880  -2.121487\n",
       "2   3  AB10 7JB  57.124274  -2.127190\n",
       "3   4  AB11 5QN  57.142701  -2.093295\n",
       "4   5  AB11 6UL  57.137547  -2.112233"
      ]
     },
     "execution_count": 4,
     "metadata": {},
     "output_type": "execute_result"
    }
   ],
   "source": [
    "post_code_data.head()"
   ]
  },
  {
   "cell_type": "code",
   "execution_count": 5,
   "metadata": {},
   "outputs": [
    {
     "data": {
      "text/html": [
       "<div>\n",
       "<style scoped>\n",
       "    .dataframe tbody tr th:only-of-type {\n",
       "        vertical-align: middle;\n",
       "    }\n",
       "\n",
       "    .dataframe tbody tr th {\n",
       "        vertical-align: top;\n",
       "    }\n",
       "\n",
       "    .dataframe thead th {\n",
       "        text-align: right;\n",
       "    }\n",
       "</style>\n",
       "<table border=\"1\" class=\"dataframe\">\n",
       "  <thead>\n",
       "    <tr style=\"text-align: right;\">\n",
       "      <th></th>\n",
       "      <th>id</th>\n",
       "      <th>postcode</th>\n",
       "      <th>latitude</th>\n",
       "      <th>longitude</th>\n",
       "    </tr>\n",
       "  </thead>\n",
       "  <tbody>\n",
       "    <tr>\n",
       "      <th>232663</th>\n",
       "      <td>250696</td>\n",
       "      <td>SW17 8PN</td>\n",
       "      <td>51.428203</td>\n",
       "      <td>-0.165502</td>\n",
       "    </tr>\n",
       "  </tbody>\n",
       "</table>\n",
       "</div>"
      ],
      "text/plain": [
       "            id  postcode   latitude  longitude\n",
       "232663  250696  SW17 8PN  51.428203  -0.165502"
      ]
     },
     "execution_count": 5,
     "metadata": {},
     "output_type": "execute_result"
    }
   ],
   "source": [
    "post_code_data[ post_code_data['postcode'] == \"SW17 8PN\" ]"
   ]
  },
  {
   "cell_type": "code",
   "execution_count": null,
   "metadata": {},
   "outputs": [],
   "source": []
  }
 ],
 "metadata": {
  "hide_input": false,
  "kernelspec": {
   "display_name": "Python 3",
   "language": "python",
   "name": "python3"
  },
  "language_info": {
   "codemirror_mode": {
    "name": "ipython",
    "version": 3
   },
   "file_extension": ".py",
   "mimetype": "text/x-python",
   "name": "python",
   "nbconvert_exporter": "python",
   "pygments_lexer": "ipython3",
   "version": "3.8.3"
  },
  "toc": {
   "base_numbering": 1,
   "nav_menu": {},
   "number_sections": true,
   "sideBar": true,
   "skip_h1_title": false,
   "title_cell": "Table of Contents",
   "title_sidebar": "Contents",
   "toc_cell": false,
   "toc_position": {},
   "toc_section_display": true,
   "toc_window_display": false
  }
 },
 "nbformat": 4,
 "nbformat_minor": 4
}
